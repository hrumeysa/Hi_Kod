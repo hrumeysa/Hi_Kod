{
 "cells": [
  {
   "cell_type": "markdown",
   "id": "5cde8087-db6b-4e7e-9574-5777b7ed9e41",
   "metadata": {},
   "source": [
    "**Ödev-1:** Kullanıcıdan maaş bilgisini istenir ve bu bilgiye göre maaşından ne kadar vergi kesileceğini hesaplanır. Kullanıcının geliri;\n",
    "\n",
    "1. 10000 ve altındaysa maaşından %5 kesinti olur.\n",
    "2. 25000 ve altındaysa maaşından %10 kesinti olur.\n",
    "3. 45000 ve altındaysa maaşından %25 kesinti olur.\n",
    "4. Diğer koşullarda %30 kesinti olur.\n",
    "\n",
    "Bu durumlara göre kullanıcının yeni maaşı yazdırılır."
   ]
  },
  {
   "cell_type": "code",
   "execution_count": 1,
   "id": "03308e2c-682b-493b-a6bc-ed588a38de18",
   "metadata": {},
   "outputs": [
    {
     "name": "stdin",
     "output_type": "stream",
     "text": [
      "Lütfen maaşınızı girin:  25000\n"
     ]
    },
    {
     "name": "stdout",
     "output_type": "stream",
     "text": [
      "Brüt maaşınız: 25000.0 TL\n",
      "Kesinti oranı: %10.0\n",
      "Kesinti miktarı: 2500.0 TL\n",
      "Net maaşınız: 22500.0 TL\n"
     ]
    }
   ],
   "source": [
    "maas = float(input(\"Lütfen maaşınızı girin: \"))\n",
    "\n",
    "if maas <= 10000:\n",
    "    kesinti_orani = 0.05\n",
    "elif maas <= 25000:\n",
    "    kesinti_orani = 0.10\n",
    "elif maas <= 45000:\n",
    "    kesinti_orani = 0.25\n",
    "else:\n",
    "    kesinti_orani = 0.30\n",
    "\n",
    "kesinti_miktari = maas * kesinti_orani\n",
    "yeni_maas = maas - kesinti_miktari\n",
    "\n",
    "print(f\"Brüt maaşınız: {maas} TL\")\n",
    "print(f\"Kesinti oranı: %{kesinti_orani * 100}\")\n",
    "print(f\"Kesinti miktarı: {kesinti_miktari} TL\")\n",
    "print(f\"Net maaşınız: {yeni_maas} TL\")\n"
   ]
  },
  {
   "cell_type": "markdown",
   "id": "f5fe8798",
   "metadata": {},
   "source": [
    "**Ödev-2:** Kullanıcıdan kullanıcı adı ve şifre oluşturmasını istenir. Şifrenin uzunluğu altı haneye ulaşmışsa hesabınız oluşturuldu mesajı alınır, altı haneden azsa altı haneli şifre oluşturması gerektiğinin mesajı alınır. *(Sadece koşul kullanılması yeterli.)*"
   ]
  },
  {
   "cell_type": "code",
   "execution_count": 2,
   "id": "6acffe57",
   "metadata": {},
   "outputs": [
    {
     "name": "stdin",
     "output_type": "stream",
     "text": [
      "Kullanıcı adınızı giriniz:  Ayse\n",
      "Sifrenizi giriniz:  12345\n"
     ]
    },
    {
     "name": "stdout",
     "output_type": "stream",
     "text": [
      "Şifreniz en az 6 haneli olmalıdır\n"
     ]
    }
   ],
   "source": [
    "k_adi = input(\"Kullanıcı adınızı giriniz: \")\n",
    "sifre = input(\"Sifrenizi giriniz: \")\n",
    "\n",
    "if len(sifre) >= 6:\n",
    "    print(\"Şifreniz başarıyla oluşturuldu\")\n",
    "else:\n",
    "    print(\"Şifreniz en az 6 haneli olmalıdır\")"
   ]
  },
  {
   "cell_type": "markdown",
   "id": "aaccf11a",
   "metadata": {},
   "source": [
    "**Ödev-3:** Bir önceki örnek geliştirilir.\n",
    "\n",
    "1. Kullanıcı girdiği şifre 5 ve 10 hane arasında olmak zorunda.\n",
    "2. Eğer bu koşula uyuyorsa \"Hesabınız oluşturuldu.\" mesajı alır.\n",
    "3. Koşulu sağlamıyorsa \"Lütfen girdiniz şifre 5 haneden az 10 haneden fazla olmasın!\" uyarısı alır.\n",
    "4. Bunu oluştururken kullanıcı istediğimiz şartlarda şifre oluşturana kadar sormaya devam eder"
   ]
  },
  {
   "cell_type": "code",
   "execution_count": 4,
   "id": "039e50dc",
   "metadata": {},
   "outputs": [
    {
     "name": "stdin",
     "output_type": "stream",
     "text": [
      "Kullanıcı adınızı giriniz:  Ayse\n",
      "Lütfen 5 ile 10 karakter arasında bir şifre oluşturun:  1234\n"
     ]
    },
    {
     "name": "stdout",
     "output_type": "stream",
     "text": [
      "Lütfen girdiniz şifre 5 haneden az 10 haneden fazla olmasın!\n"
     ]
    },
    {
     "name": "stdin",
     "output_type": "stream",
     "text": [
      "Kullanıcı adınızı giriniz:  Ayse\n",
      "Lütfen 5 ile 10 karakter arasında bir şifre oluşturun:  123456\n"
     ]
    },
    {
     "name": "stdout",
     "output_type": "stream",
     "text": [
      "Şifreniz başarıyla oluşturuldu\n"
     ]
    }
   ],
   "source": [
    "while True:\n",
    "    k_adi = input(\"Kullanıcı adınızı giriniz: \")\n",
    "    sifre = input(\"Lütfen 5 ile 10 karakter arasında bir şifre oluşturun: \")\n",
    "\n",
    "    if 5 <= len(sifre) <= 10:\n",
    "        print(\"Şifreniz başarıyla oluşturuldu\")\n",
    "        break\n",
    "    else:\n",
    "        print(\"Lütfen girdiniz şifre 5 haneden az 10 haneden fazla olmasın!\")"
   ]
  },
  {
   "cell_type": "markdown",
   "id": "8ba81863",
   "metadata": {},
   "source": [
    "**Ödev-4:** Kullanıcıdan isim ve şifre isteyeceğiz ve şifre girişi için üç hak verilir.\n",
    "\n",
    "1. Eğer önceden tanımlı şifre ile kullanıcıdan gelen şifre aynıysa \"Giriş yapıldı.\" yazar.\n",
    "2. Şifre girişi yanlışsa \"Yanlış şifre girildi!\" uyarısı verilsin ve üç yanlış denemede program biter.\n",
    "3. Tercihe göre kalan hak bilgisi verilir."
   ]
  },
  {
   "cell_type": "code",
   "execution_count": 5,
   "id": "30eb5ec9-8d16-47b1-a014-d1fb5346d2dd",
   "metadata": {},
   "outputs": [
    {
     "name": "stdin",
     "output_type": "stream",
     "text": [
      "Parolayı girin:  123\n"
     ]
    },
    {
     "name": "stdout",
     "output_type": "stream",
     "text": [
      "Yanlış şifre girildi! Kalan giriş hakkınız: 2\n"
     ]
    },
    {
     "name": "stdin",
     "output_type": "stream",
     "text": [
      "Parolayı girin:  245\n"
     ]
    },
    {
     "name": "stdout",
     "output_type": "stream",
     "text": [
      "Yanlış şifre girildi! Kalan giriş hakkınız: 1\n"
     ]
    },
    {
     "name": "stdin",
     "output_type": "stream",
     "text": [
      "Parolayı girin:  12345\n"
     ]
    },
    {
     "name": "stdout",
     "output_type": "stream",
     "text": [
      "Giriş Başarılı\n"
     ]
    }
   ],
   "source": [
    "hak = 3\n",
    "ilk_deneme = 0\n",
    "password = \"12345\"\n",
    "\n",
    "while ilk_deneme < hak:\n",
    "    user_input = input(\"Parolayı girin: \")\n",
    "\n",
    "    if user_input == password:\n",
    "        print(\"Giriş Başarılı\")\n",
    "        break\n",
    "    else:\n",
    "        ilk_deneme += 1\n",
    "        kalan_hak = hak - ilk_deneme\n",
    "        print(f\"Yanlış şifre girildi! Kalan giriş hakkınız: {kalan_hak}\")\n",
    "if kalan_hak == hak:\n",
    "    print(\"Giriş hakkınız doldu\")\n"
   ]
  },
  {
   "cell_type": "code",
   "execution_count": null,
   "id": "d02b6da6-73de-44cf-95ca-5a4924246a47",
   "metadata": {},
   "outputs": [],
   "source": []
  }
 ],
 "metadata": {
  "kernelspec": {
   "display_name": "Python 3 (ipykernel)",
   "language": "python",
   "name": "python3"
  },
  "language_info": {
   "codemirror_mode": {
    "name": "ipython",
    "version": 3
   },
   "file_extension": ".py",
   "mimetype": "text/x-python",
   "name": "python",
   "nbconvert_exporter": "python",
   "pygments_lexer": "ipython3",
   "version": "3.11.3"
  }
 },
 "nbformat": 4,
 "nbformat_minor": 5
}
