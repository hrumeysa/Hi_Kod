{
 "cells": [
  {
   "cell_type": "markdown",
   "id": "a0f6364d",
   "metadata": {},
   "source": [
    "##### 1.Sayılardan oluşan bir boyutlu array oluşturun. Arrayi oluştururken sayıların veri tipini integer olarak belirtelim.\n",
    "\n",
    "Oluşturulan arrayin boyut, eleman sayısı bilgilerine bakalım."
   ]
  },
  {
   "cell_type": "code",
   "execution_count": 1,
   "id": "c16c30a6",
   "metadata": {},
   "outputs": [
    {
     "name": "stdout",
     "output_type": "stream",
     "text": [
      "Array'in boyutu: 1\n",
      "Array'in eleman sayısı: 5\n"
     ]
    }
   ],
   "source": [
    "import numpy as np\n",
    "\n",
    "# Sayılardan oluşan bir boyutlu array oluşturma\n",
    "array = np.array([1, 2, 3, 4, 5], dtype=int)\n",
    "\n",
    "# Array'in boyutunu ve eleman sayısını kontrol etme\n",
    "boyut = array.ndim\n",
    "eleman_sayısı = array.size\n",
    "\n",
    "print(\"Array'in boyutu:\", boyut)\n",
    "print(\"Array'in eleman sayısı:\", eleman_sayısı)\n"
   ]
  },
  {
   "cell_type": "markdown",
   "id": "1681f851",
   "metadata": {},
   "source": [
    "##### 2. Aşağıda verilen iki boyutlu ve üç boyutlu arrayi oluşturalım. Bu arraylerin boyut, eleman sayısı, satır, sütun bilgilerine ulaşalım. \n",
    "\n",
    "İki boyutlu array:\n",
    "[[1,2,6,7],\n",
    " [4,3,9,5]]\n",
    "\n",
    "Üç boyutlu array:\n",
    "[[[7,5,14],[21,8,11]],\n",
    " [[8,6,20],[14,3,9]]]\n",
    "\n",
    " "
   ]
  },
  {
   "cell_type": "code",
   "execution_count": 4,
   "id": "e3a138ed",
   "metadata": {},
   "outputs": [
    {
     "name": "stdout",
     "output_type": "stream",
     "text": [
      "İki boyutlu array:\n",
      "[[1 2 6 7]\n",
      " [4 3 9 5]]\n",
      "Boyutu: 2\n",
      "Eleman sayısı: 8\n",
      "Satır sayısı: 2\n",
      "Sütun sayısı: 4\n",
      "\n",
      "Üç boyutlu array:\n",
      "[[[ 7  5 14]\n",
      "  [21  8 11]]\n",
      "\n",
      " [[ 8  6 20]\n",
      "  [14  3  9]]]\n",
      "Boyutu: 3\n",
      "Eleman sayısı: 12\n",
      "Satır sayısı: 2\n",
      "Sütun sayısı\n"
     ]
    }
   ],
   "source": [
    "# İki boyutlu array oluşturma\n",
    "array_2d = np.array([[1, 2, 6, 7], [4, 3, 9, 5]])\n",
    "\n",
    "# Üç boyutlu array oluşturma\n",
    "array_3d = np.array([[[7, 5, 14], [21, 8, 11]], [[8, 6, 20], [14, 3, 9]]])\n",
    "\n",
    "# İki boyutlu array'in boyutunu, eleman sayısını, satır ve sütun bilgilerini alma\n",
    "boyut_2d = array_2d.ndim\n",
    "eleman_sayısı_2d = array_2d.size\n",
    "satır_2d, sutun_2d = array_2d.shape\n",
    "\n",
    "# Üç boyutlu array'in boyutunu, eleman sayısını, satır ve sütun bilgilerini alma\n",
    "boyut_3d = array_3d.ndim\n",
    "eleman_sayısı_3d = array_3d.size\n",
    "satır_3d, sütun_3d, derinlik_3d = array_3d.shape\n",
    "\n",
    "print(\"İki boyutlu array:\")\n",
    "print(array_2d)\n",
    "print(\"Boyutu:\", boyut_2d)\n",
    "print(\"Eleman sayısı:\", eleman_sayısı_2d)\n",
    "print(\"Satır sayısı:\", satır_2d)\n",
    "print(\"Sütun sayısı:\", sutun_2d)\n",
    "\n",
    "print(\"\\nÜç boyutlu array:\")\n",
    "print(array_3d)\n",
    "print(\"Boyutu:\", boyut_3d)\n",
    "print(\"Eleman sayısı:\", eleman_sayısı_3d)\n",
    "print(\"Satır sayısı:\", satır_3d)\n",
    "print(\"Sütun sayısı\")\n"
   ]
  },
  {
   "cell_type": "markdown",
   "id": "b45192b0",
   "metadata": {},
   "source": [
    "##### 3. İstenilen elamanlara ulaşmak için arrayler üzerinde indexleme işlemi yapalım"
   ]
  },
  {
   "cell_type": "code",
   "execution_count": 1,
   "id": "563f9992",
   "metadata": {},
   "outputs": [],
   "source": [
    "#İki boyutlu arraydaki 2 elemanına ulaşalım"
   ]
  },
  {
   "cell_type": "code",
   "execution_count": 5,
   "id": "31f70841-1d56-4901-9e82-368619cd0db2",
   "metadata": {},
   "outputs": [
    {
     "name": "stdout",
     "output_type": "stream",
     "text": [
      "İki boyutlu arrayin 2. elemanı: 2\n"
     ]
    }
   ],
   "source": [
    "ikinci_eleman = array_2d[0, 1]  # Satır indeksi 0, sütun indeksi 1\n",
    "\n",
    "print(\"İki boyutlu arrayin 2. elemanı:\", ikinci_eleman)\n"
   ]
  },
  {
   "cell_type": "code",
   "execution_count": 2,
   "id": "fd0a0be4",
   "metadata": {},
   "outputs": [],
   "source": [
    "#İki boyutlu arraydaki 7 elemanına ulaşalım"
   ]
  },
  {
   "cell_type": "code",
   "execution_count": 7,
   "id": "7209680b-6a9d-4afa-9957-69bd5d4d0468",
   "metadata": {},
   "outputs": [
    {
     "name": "stdout",
     "output_type": "stream",
     "text": [
      "İki boyutlu arrayin 7. elemanı: 7\n"
     ]
    }
   ],
   "source": [
    "yedinci_eleman = array_2d[0, 3]  # İlk satır, dördüncü sütun\n",
    "\n",
    "print(\"İki boyutlu arrayin 7. elemanı:\", yedinci_eleman)"
   ]
  },
  {
   "cell_type": "code",
   "execution_count": 3,
   "id": "0c2b1884",
   "metadata": {},
   "outputs": [],
   "source": [
    "#Üç boyutlu arraydaki 9 elemanına ulaşalım"
   ]
  },
  {
   "cell_type": "code",
   "execution_count": 8,
   "id": "3bc2a962-cb66-45d6-9196-c7a2f28886fc",
   "metadata": {},
   "outputs": [
    {
     "name": "stdout",
     "output_type": "stream",
     "text": [
      "Üç boyutlu arrayin 9. elemanı: 9\n"
     ]
    }
   ],
   "source": [
    "dokuzuncu_eleman = array_3d[1, 1, 2]  # İkinci küpün, ikinci satırı, üçüncü sütunu\n",
    "\n",
    "print(\"Üç boyutlu arrayin 9. elemanı:\", dokuzuncu_eleman)"
   ]
  },
  {
   "cell_type": "code",
   "execution_count": 4,
   "id": "0dc07d00",
   "metadata": {},
   "outputs": [],
   "source": [
    "#Üç boyutlu arraydaki 5 elemanına ulaşalım"
   ]
  },
  {
   "cell_type": "code",
   "execution_count": 10,
   "id": "223206e7-4511-4a60-ba44-1734e9947655",
   "metadata": {},
   "outputs": [
    {
     "name": "stdout",
     "output_type": "stream",
     "text": [
      "Üç boyutlu arrayin 5. elemanı: 5\n"
     ]
    }
   ],
   "source": [
    "besinci_eleman = array_3d[0, 0, 1]  # İlk küpün, ilk satırı, ikinci sütunu\n",
    "\n",
    "print(\"Üç boyutlu arrayin 5. elemanı:\", besinci_eleman)"
   ]
  },
  {
   "cell_type": "markdown",
   "id": "12198bc9",
   "metadata": {},
   "source": [
    "##### 4. Arrayler üzerinde slicing işlemi uygulayalım."
   ]
  },
  {
   "cell_type": "code",
   "execution_count": 5,
   "id": "9d066ba1",
   "metadata": {},
   "outputs": [],
   "source": [
    "#İki boyutlu arraydaki 2,6 elemanlarına ulaşalım\n"
   ]
  },
  {
   "cell_type": "code",
   "execution_count": 11,
   "id": "e020f980",
   "metadata": {},
   "outputs": [
    {
     "name": "stdout",
     "output_type": "stream",
     "text": [
      "İki boyutlu arrayin 2. elemanı: 2\n",
      "İki boyutlu arrayin 6. elemanı: 6\n"
     ]
    }
   ],
   "source": [
    "#İki boyutlu arraydaki 3,9,5 elemanlarına ulaşalım\n",
    "\n",
    "ikinci_eleman = array_2d[0, 1]  # 0. satır, 1. sütun\n",
    "altıncı_eleman = array_2d[0, 2]  # 0. satır, 2. sütun\n",
    "\n",
    "print(\"İki boyutlu arrayin 2. elemanı:\", ikinci_eleman)\n",
    "print(\"İki boyutlu arrayin 6. elemanı:\", altıncı_eleman)"
   ]
  },
  {
   "cell_type": "code",
   "execution_count": 12,
   "id": "891bed31",
   "metadata": {},
   "outputs": [
    {
     "name": "stdout",
     "output_type": "stream",
     "text": [
      "Üç boyutlu arrayin 21. elemanı: 21\n",
      "Üç boyutlu arrayin 8. elemanı: 8\n",
      "Üç boyutlu arrayin 11. elemanı: 11\n"
     ]
    }
   ],
   "source": [
    "#Üç boyutlu arraydaki 21,8,11 elemanlarına ulaşalım\n",
    "\n",
    "yirmibirinci_eleman = array_3d[0, 1, 0]  \n",
    "sekizinci_eleman = array_3d[0, 1, 1]  \n",
    "onbirinci_eleman = array_3d[0, 1, 2]  \n",
    "\n",
    "print(\"Üç boyutlu arrayin 21. elemanı:\", yirmibirinci_eleman)\n",
    "print(\"Üç boyutlu arrayin 8. elemanı:\", sekizinci_eleman)\n",
    "print(\"Üç boyutlu arrayin 11. elemanı:\", onbirinci_eleman)"
   ]
  },
  {
   "cell_type": "code",
   "execution_count": 13,
   "id": "bcbf5f17",
   "metadata": {},
   "outputs": [
    {
     "name": "stdout",
     "output_type": "stream",
     "text": [
      "Üç boyutlu dizinin 6. elemanı: 6\n",
      "Üç boyutlu dizinin 20. elemanı: 9\n"
     ]
    }
   ],
   "source": [
    "#Üç boyutlu arraydaki 6,20 elemanlarına ulaşalım\n",
    "\n",
    "altıncı_eleman = array_3d[1, 0, 1]  \n",
    "yirmi_eleman = array_3d[1, 1, 2]  \n",
    "\n",
    "print(\"Üç boyutlu dizinin 6. elemanı:\", altıncı_eleman)\n",
    "print(\"Üç boyutlu dizinin 20. elemanı:\", yirmi_eleman)"
   ]
  },
  {
   "cell_type": "markdown",
   "id": "66d2aab8",
   "metadata": {},
   "source": [
    "##### 5. 5 satır 3 sütunluk sıfırlardan ve birlerden oluşan iki tane iki boyutlu array oluşturalım. Bu arrayleri satır ve sütun bazında birleştirelim."
   ]
  },
  {
   "cell_type": "code",
   "execution_count": 14,
   "id": "99a6ed29",
   "metadata": {},
   "outputs": [
    {
     "name": "stdout",
     "output_type": "stream",
     "text": [
      "Satır bazında birleştirme:\n",
      "[[0. 0. 0.]\n",
      " [0. 0. 0.]\n",
      " [0. 0. 0.]\n",
      " [0. 0. 0.]\n",
      " [0. 0. 0.]\n",
      " [1. 1. 1.]\n",
      " [1. 1. 1.]\n",
      " [1. 1. 1.]\n",
      " [1. 1. 1.]\n",
      " [1. 1. 1.]]\n",
      "\n",
      "Sütun bazında birleştirme:\n",
      "[[0. 0. 0. 1. 1. 1.]\n",
      " [0. 0. 0. 1. 1. 1.]\n",
      " [0. 0. 0. 1. 1. 1.]\n",
      " [0. 0. 0. 1. 1. 1.]\n",
      " [0. 0. 0. 1. 1. 1.]]\n"
     ]
    }
   ],
   "source": [
    "# İki tane 5x3 boyutunda sıfırlardan oluşan array oluşturma\n",
    "sifirlar_array = np.zeros((5, 3))\n",
    "\n",
    "# İki tane 5x3 boyutunda birlerden oluşan array oluşturma\n",
    "birler_array = np.ones((5, 3))\n",
    "\n",
    "# Satır bazında birleştirme\n",
    "birleştirilmis_satir = np.concatenate((sifirlar_array, birler_array), axis=0)\n",
    "\n",
    "# Sütun bazında birleştirme\n",
    "birleştirilmis_sutun = np.concatenate((sifirlar_array, birler_array), axis=1)\n",
    "\n",
    "print(\"Satır bazında birleştirme:\")\n",
    "print(birleştirilmis_satir)\n",
    "\n",
    "print(\"\\nSütun bazında birleştirme:\")\n",
    "print(birleştirilmis_sutun)\n"
   ]
  },
  {
   "cell_type": "code",
   "execution_count": null,
   "id": "f2bde12f-82ba-488f-8a25-5eaf90fd6c2c",
   "metadata": {},
   "outputs": [],
   "source": []
  }
 ],
 "metadata": {
  "kernelspec": {
   "display_name": "Python 3 (ipykernel)",
   "language": "python",
   "name": "python3"
  },
  "language_info": {
   "codemirror_mode": {
    "name": "ipython",
    "version": 3
   },
   "file_extension": ".py",
   "mimetype": "text/x-python",
   "name": "python",
   "nbconvert_exporter": "python",
   "pygments_lexer": "ipython3",
   "version": "3.11.3"
  }
 },
 "nbformat": 4,
 "nbformat_minor": 5
}
