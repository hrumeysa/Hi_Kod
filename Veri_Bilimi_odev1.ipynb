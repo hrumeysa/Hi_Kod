{
 "cells": [
  {
   "cell_type": "markdown",
   "id": "032d81b2",
   "metadata": {},
   "source": [
    "# 1\n",
    "x = 3 ----> floata çevirelim. Çevirdikten sonra beri tipinide yazdıralım.\n",
    "\n",
    "y = 4.5 -----> integere çevirelim. Çevirdikten sonra beri tipinide yazdıralım.\n",
    "\n",
    "z = \"8\" -----> integera çevirelim. Çevirdikten sonra beri tipinide yazdıralım.\n",
    "\n",
    "a = \"12\" -----> floata çevirelim. Çevirdikten sonra beri tipinide yazdıralım.\n",
    "\n",
    "b = \"46.8\" ------> integera çevirelim. Çevirdikten sonra beri tipinide yazdıralım."
   ]
  },
  {
   "cell_type": "code",
   "execution_count": 1,
   "id": "f1b735c0",
   "metadata": {},
   "outputs": [
    {
     "name": "stdout",
     "output_type": "stream",
     "text": [
      "<class 'float'>\n"
     ]
    }
   ],
   "source": [
    "x = 3 \n",
    "x_float = float(3)\n",
    "print(type(x_float))"
   ]
  },
  {
   "cell_type": "code",
   "execution_count": 2,
   "id": "99a4f9df-9a5c-4f21-8f08-68986c3d4b0d",
   "metadata": {},
   "outputs": [
    {
     "name": "stdout",
     "output_type": "stream",
     "text": [
      "<class 'int'>\n"
     ]
    }
   ],
   "source": [
    "y = 4.5 \n",
    "y_int = int(y)\n",
    "print(type(y_int))"
   ]
  },
  {
   "cell_type": "code",
   "execution_count": 3,
   "id": "73b3dc52-0502-4b77-83e2-950eb487f7ee",
   "metadata": {},
   "outputs": [
    {
     "name": "stdout",
     "output_type": "stream",
     "text": [
      "<class 'int'>\n"
     ]
    }
   ],
   "source": [
    "z = \"8\"\n",
    "z_int = int(z)\n",
    "print(type(z_int))"
   ]
  },
  {
   "cell_type": "code",
   "execution_count": 4,
   "id": "a1210506-191e-4b1c-a8d8-84407e91d553",
   "metadata": {},
   "outputs": [
    {
     "name": "stdout",
     "output_type": "stream",
     "text": [
      "<class 'float'>\n"
     ]
    }
   ],
   "source": [
    "a = \"12\"\n",
    "a_float = float(a)\n",
    "print(type(a_float))"
   ]
  },
  {
   "cell_type": "code",
   "execution_count": 6,
   "id": "dfc9a245-f4f8-44d6-afd5-b0da323803d5",
   "metadata": {},
   "outputs": [
    {
     "name": "stdout",
     "output_type": "stream",
     "text": [
      "<class 'int'>\n"
     ]
    }
   ],
   "source": [
    "b = \"46.8\"\n",
    "b_float = float(b)\n",
    "b_integer = int(b_float)\n",
    "print(type(b_integer))"
   ]
  },
  {
   "cell_type": "markdown",
   "id": "95509718",
   "metadata": {},
   "source": [
    "# 2 \n",
    "İsimlerden oluşan üç değişkene yaş değerleri atanır. Belirlenen üç değişken birbiriyle karşılaştırma operatörleri ile karşılaştırılır. Bu karşılaştırmalara mantıksal operatörler de eklenir."
   ]
  },
  {
   "cell_type": "code",
   "execution_count": 7,
   "id": "50f77b4f",
   "metadata": {},
   "outputs": [
    {
     "name": "stdout",
     "output_type": "stream",
     "text": [
      "False\n",
      "True\n",
      "False\n",
      "True\n"
     ]
    }
   ],
   "source": [
    "Ali = 23\n",
    "Veli = 18\n",
    "Ayşe = 26\n",
    "\n",
    "a = Ali<Veli\n",
    "b = Ayşe > Veli\n",
    "c = Ali == Veli\n",
    "\n",
    "mantiksal_karsilastirma = a and b or not c\n",
    "\n",
    "print(a)\n",
    "print(b)\n",
    "print(c)\n",
    "print(mantiksal_karsilastirma)"
   ]
  },
  {
   "cell_type": "markdown",
   "id": "a1a0eb92",
   "metadata": {},
   "source": [
    "# 3\n",
    "Kullanıcıdan iki değer girmesini istenir. Girilen değerlerin toplama, çıkarma, çarpma, bölme sonuçlarını yazdırılır."
   ]
  },
  {
   "cell_type": "code",
   "execution_count": 8,
   "id": "c361e45a",
   "metadata": {},
   "outputs": [
    {
     "name": "stdin",
     "output_type": "stream",
     "text": [
      "Birinci sayıyı girin:  52\n",
      "İkinci sayıyı girin:  22\n"
     ]
    },
    {
     "name": "stdout",
     "output_type": "stream",
     "text": [
      "30.0 // 74.0 // 1144.0 // 2.3636363636363638\n"
     ]
    }
   ],
   "source": [
    "x = float(input(\"Birinci sayıyı girin: \"))\n",
    "y = float(input(\"İkinci sayıyı girin: \"))\n",
    "\n",
    "Fark = x-y\n",
    "Toplam = x+y\n",
    "Carpim = x*y\n",
    "Bolum = x/y \n",
    "\n",
    "print(Fark,\"//\", Toplam, \"//\",Carpim, \"//\", Bolum)\n"
   ]
  },
  {
   "cell_type": "markdown",
   "id": "060b0bea",
   "metadata": {},
   "source": [
    "# 4\n",
    "Kullanıcıdan isim, yaş, şehir ve meslek bilgilerini istenir ve cevaplarını yazdırılır."
   ]
  },
  {
   "cell_type": "code",
   "execution_count": 9,
   "id": "6f5dea59",
   "metadata": {},
   "outputs": [
    {
     "name": "stdin",
     "output_type": "stream",
     "text": [
      "Adınızı girin:  Ali\n",
      "Yaşınızı girin:  28\n",
      "Şehir bilginizi girin:  Ankara\n",
      "Meslek bilginizi girin:  Doktor\n"
     ]
    },
    {
     "name": "stdout",
     "output_type": "stream",
     "text": [
      "\n",
      "Kullanıcı Bilgileri:\n",
      "Ali\n",
      "28\n",
      "Ankara\n",
      "Doktor\n"
     ]
    }
   ],
   "source": [
    "isim = input(\"Adınızı girin: \")\n",
    "yas = input(\"Yaşınızı girin: \")\n",
    "sehir = input(\"Şehir bilginizi girin: \")\n",
    "meslek = input(\"Meslek bilginizi girin: \")\n",
    "\n",
    "# Kullanıcının girdiği bilgileri yazdırma\n",
    "print(\"\\nKullanıcı Bilgileri:\")\n",
    "print(isim)\n",
    "print(yas)\n",
    "print(sehir)\n",
    "print(meslek)"
   ]
  },
  {
   "cell_type": "markdown",
   "id": "55e1a34e",
   "metadata": {},
   "source": [
    "# 5\n",
    "\"Hi-Kod Veri Bilimi Atölyesi\" ifadesini bir değişkene tanımlanır.\n",
    "\n",
    "\n",
    " 1. İfadedeki her bir kelimeyi (\"Hi-Kod\", \"Veri\", \"Bilimi\", \"Atölyesi\") değişken içinden seçilir. \n",
    " 2. İfadeyi hepsini büyük harf olacak hale çevrilir. (\"HI-KOD VERİ BİLİMİ ATÖLYESİ\") \n",
    " 3. İfadeyi hepsini büyük harf olacak hale çevrilir.(\"hi-kod veri bilimi atölyesi\") \n",
    "\n",
    "\"0123456789\" ifadesindeki yalnızca çift sayıları ve yalnızca tek sayıları seçilir. (\"02468\", \"13579\")"
   ]
  },
  {
   "cell_type": "code",
   "execution_count": 10,
   "id": "0fc1bc40",
   "metadata": {},
   "outputs": [
    {
     "name": "stdout",
     "output_type": "stream",
     "text": [
      "Her bir kelime:  Hi-Kod Veri Bilimi Atölyesi\n",
      "Her bir kelime (Büyük Harf):  HI-KOD VERI BILIMI ATÖLYESI\n",
      "Tüm ifade (Büyük Harf):  HI-KOD VERI BILIMI ATÖLYESI\n",
      "Tüm ifade (Küçük Harf):  hi-kod veri bilimi atölyesi\n",
      "Çift Sayılar:  02468\n",
      "Tek Sayılar:  13579\n"
     ]
    }
   ],
   "source": [
    "x = \"Hi-Kod Veri Bilimi Atölyesi\" \n",
    "\n",
    "# Her bir kelimeyi seçme\n",
    "hi_kod = x[:6]\n",
    "veri = x[7:11]\n",
    "bilimi = x[12:18]\n",
    "atolyesi = x[19:]\n",
    "\n",
    "# Her bir kelimeyi büyük harfe çevir\n",
    "hi_kod_buyuk = hi_kod.upper()\n",
    "veri_buyuk = veri.upper()\n",
    "bilimi_buyuk = bilimi.upper()\n",
    "atolyesi_buyuk = atolyesi.upper()\n",
    "\n",
    "# Tüm ifadeyi büyük harfe çevir\n",
    "x_buyuk = x.upper()\n",
    "\n",
    "# Tüm ifadeyi küçük harfe çevir\n",
    "x_kucuk = x.lower()\n",
    "\n",
    "# \"0123456789\" ifadesindeki çift ve tek sayıları seç\n",
    "cift_sayilar = \"02468\"\n",
    "tek_sayilar = \"13579\"\n",
    "\n",
    "print(\"Her bir kelime: \", hi_kod, veri, bilimi, atolyesi)\n",
    "print(\"Her bir kelime (Büyük Harf): \", hi_kod_buyuk, veri_buyuk, bilimi_buyuk, atolyesi_buyuk)\n",
    "print(\"Tüm ifade (Büyük Harf): \", x_buyuk)\n",
    "print(\"Tüm ifade (Küçük Harf): \", x_kucuk)\n",
    "print(\"Çift Sayılar: \", cift_sayilar)\n",
    "print(\"Tek Sayılar: \", tek_sayilar)"
   ]
  },
  {
   "cell_type": "code",
   "execution_count": null,
   "id": "6b190e5f-03e0-466c-a627-11049d8a284f",
   "metadata": {},
   "outputs": [],
   "source": []
  }
 ],
 "metadata": {
  "kernelspec": {
   "display_name": "Python 3 (ipykernel)",
   "language": "python",
   "name": "python3"
  },
  "language_info": {
   "codemirror_mode": {
    "name": "ipython",
    "version": 3
   },
   "file_extension": ".py",
   "mimetype": "text/x-python",
   "name": "python",
   "nbconvert_exporter": "python",
   "pygments_lexer": "ipython3",
   "version": "3.11.3"
  }
 },
 "nbformat": 4,
 "nbformat_minor": 5
}
