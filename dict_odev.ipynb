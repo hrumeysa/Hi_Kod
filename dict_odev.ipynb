{
 "cells": [
  {
   "cell_type": "markdown",
   "metadata": {},
   "source": [
    "### Ödev 1\n",
    "\n",
    "Bir sözlük oluşturulur ve bu sözlükte öğrencilerin isimleri ve Matematik, Fizik, Kimya notları tutulur. Kullanıcıdan isim ve ders ismi(Matematik, Fizik, Kimya) istenir ve bu bilgilere göre çıktı verilir."
   ]
  },
  {
   "cell_type": "code",
   "execution_count": 3,
   "metadata": {},
   "outputs": [
    {
     "name": "stdin",
     "output_type": "stream",
     "text": [
      "Öğrenci ismini girin:  Fatma\n",
      "Notunu öğrenmek istediğiniz dersi girin (Matematik, Fizik, Kimya):  Matematik\n"
     ]
    },
    {
     "name": "stdout",
     "output_type": "stream",
     "text": [
      "Fatma isimli öğrencinin Matematik dersindeki notu: 85\n"
     ]
    }
   ],
   "source": [
    "ogrenci_bilgileri = {\n",
    "    \"Ahmet\": {\"Matematik\": 90, \"Fizik\": 85, \"Kimya\": 88},\n",
    "    \"Ayşe\": {\"Matematik\": 78, \"Fizik\": 92, \"Kimya\": 80},\n",
    "    \"Mehmet\": {\"Matematik\": 85, \"Fizik\": 88, \"Kimya\": 75},\n",
    "    \"Fatma\": {\"Matematik\": 85, \"Fizik\": 56, \"Kimya\": 57}\n",
    "}\n",
    "\n",
    "# Kullanıcıdan isim ve ders adı iste\n",
    "ogrenci_isim = input(\"Öğrenci ismini girin: \")\n",
    "ders_adi = input(\"Notunu öğrenmek istediğiniz dersi girin (Matematik, Fizik, Kimya): \")\n",
    "\n",
    "notu = ogrenci_bilgileri[ogrenci_isim][ders_adi]\n",
    "print(\"{} isimli öğrencinin {} dersindeki notu: {}\".format(ogrenci_isim, ders_adi, notu))"
   ]
  },
  {
   "cell_type": "markdown",
   "metadata": {},
   "source": [
    "### Ödev 2\n",
    "\n",
    "Sözlük üzerinde değerleri değiştirme, yeni değer ekleme, kullanıcıya ulaşmak istediği bilgileri sorma gibi uygulamalar yapın."
   ]
  },
  {
   "cell_type": "code",
   "execution_count": 5,
   "metadata": {},
   "outputs": [
    {
     "name": "stdout",
     "output_type": "stream",
     "text": [
      "\n",
      "1. Öğrenci Bilgilerini Görüntüle\n",
      "2. Not Değiştir\n",
      "3. Yeni Öğrenci Ekle\n",
      "4. Çıkış\n"
     ]
    },
    {
     "name": "stdin",
     "output_type": "stream",
     "text": [
      "Yapmak istediğiniz işlemi seçin (1-4):  1\n",
      "Öğrenci ismini girin:  Ayşe\n"
     ]
    },
    {
     "name": "stdout",
     "output_type": "stream",
     "text": [
      "{'Matematik': 78, 'Fizik': 92, 'Kimya': 80}\n",
      "\n",
      "1. Öğrenci Bilgilerini Görüntüle\n",
      "2. Not Değiştir\n",
      "3. Yeni Öğrenci Ekle\n",
      "4. Çıkış\n"
     ]
    },
    {
     "name": "stdin",
     "output_type": "stream",
     "text": [
      "Yapmak istediğiniz işlemi seçin (1-4):  3\n",
      "Yeni öğrenci ismini girin:  Sanem\n",
      "Matematik notunu girin:  92\n",
      "Fizik notunu girin:  88\n",
      "Kimya notunu girin:  55\n"
     ]
    },
    {
     "name": "stdout",
     "output_type": "stream",
     "text": [
      "Yeni öğrenci eklendi.\n",
      "\n",
      "1. Öğrenci Bilgilerini Görüntüle\n",
      "2. Not Değiştir\n",
      "3. Yeni Öğrenci Ekle\n",
      "4. Çıkış\n"
     ]
    },
    {
     "name": "stdin",
     "output_type": "stream",
     "text": [
      "Yapmak istediğiniz işlemi seçin (1-4):  1\n",
      "Öğrenci ismini girin:  Sanem\n"
     ]
    },
    {
     "name": "stdout",
     "output_type": "stream",
     "text": [
      "{'Matematik': 92.0, 'Fizik': 88.0, 'Kimya': 55.0}\n",
      "\n",
      "1. Öğrenci Bilgilerini Görüntüle\n",
      "2. Not Değiştir\n",
      "3. Yeni Öğrenci Ekle\n",
      "4. Çıkış\n"
     ]
    },
    {
     "name": "stdin",
     "output_type": "stream",
     "text": [
      "Yapmak istediğiniz işlemi seçin (1-4):  2\n",
      "Öğrenci ismini girin:  Mehmet\n",
      "Notunu değiştirmek istediğiniz dersi girin (Matematik, Fizik, Kimya):  Fizik\n",
      "Yeni notu girin:  65\n"
     ]
    },
    {
     "name": "stdout",
     "output_type": "stream",
     "text": [
      "Not değiştirildi.\n",
      "\n",
      "1. Öğrenci Bilgilerini Görüntüle\n",
      "2. Not Değiştir\n",
      "3. Yeni Öğrenci Ekle\n",
      "4. Çıkış\n"
     ]
    },
    {
     "name": "stdin",
     "output_type": "stream",
     "text": [
      "Yapmak istediğiniz işlemi seçin (1-4):  \n"
     ]
    },
    {
     "name": "stdout",
     "output_type": "stream",
     "text": [
      "Geçersiz seçenek. Lütfen 1-4 arasında bir sayı girin.\n",
      "\n",
      "1. Öğrenci Bilgilerini Görüntüle\n",
      "2. Not Değiştir\n",
      "3. Yeni Öğrenci Ekle\n",
      "4. Çıkış\n"
     ]
    },
    {
     "name": "stdin",
     "output_type": "stream",
     "text": [
      "Yapmak istediğiniz işlemi seçin (1-4):  4\n"
     ]
    },
    {
     "name": "stdout",
     "output_type": "stream",
     "text": [
      "Çıkış Yapıldı\n"
     ]
    }
   ],
   "source": [
    "while True:\n",
    "    print(\"\\n1. Öğrenci Bilgilerini Görüntüle\")\n",
    "    print(\"2. Not Değiştir\")\n",
    "    print(\"3. Yeni Öğrenci Ekle\")\n",
    "    print(\"4. Çıkış\")\n",
    "\n",
    "    secim = input(\"Yapmak istediğiniz işlemi seçin (1-4): \")\n",
    "\n",
    "    if secim == \"1\":\n",
    "        # 1. Öğrenci Bilgilerini Görüntüle\n",
    "        ogrenci_isim = input(\"Öğrenci ismini girin: \")\n",
    "        if ogrenci_isim in ogrenci_bilgileri:\n",
    "            print(ogrenci_bilgileri[ogrenci_isim])\n",
    "        else:\n",
    "            print(\"Belirtilen öğrenci bulunamadı.\")\n",
    "\n",
    "    elif secim == \"2\":\n",
    "        # 2. Not Değiştir\n",
    "        ogrenci_isim = input(\"Öğrenci ismini girin: \")\n",
    "        ders_adi = input(\"Notunu değiştirmek istediğiniz dersi girin (Matematik, Fizik, Kimya): \")\n",
    "        yeni_not = float(input(\"Yeni notu girin: \"))\n",
    "        if ogrenci_isim in ogrenci_bilgileri and ders_adi in ogrenci_bilgileri[ogrenci_isim]:\n",
    "            ogrenci_bilgileri[ogrenci_isim][ders_adi] = yeni_not\n",
    "            print(\"Not değiştirildi.\")\n",
    "        else:\n",
    "            print(\"Belirtilen öğrenci veya ders bulunamadı.\")\n",
    "\n",
    "    elif secim == \"3\":\n",
    "        # 3. Yeni Öğrenci Ekle\n",
    "        yeni_ogrenci_isim = input(\"Yeni öğrenci ismini girin: \")\n",
    "        yeni_ogrenci_notlar = {}\n",
    "        for ders in [\"Matematik\", \"Fizik\", \"Kimya\"]:\n",
    "            notu = float(input(\"{} notunu girin: \".format(ders)))\n",
    "            yeni_ogrenci_notlar[ders] = notu\n",
    "        ogrenci_bilgileri[yeni_ogrenci_isim] = yeni_ogrenci_notlar\n",
    "        print(\"Yeni öğrenci eklendi.\")\n",
    "\n",
    "    elif secim == \"4\":\n",
    "        # 4. Çıkış\n",
    "        print(\"Çıkış Yapıldı\")\n",
    "        break\n",
    "\n",
    "    else:\n",
    "        print(\"Geçersiz seçenek. Lütfen 1-4 arasında bir sayı girin.\")"
   ]
  },
  {
   "cell_type": "code",
   "execution_count": null,
   "metadata": {},
   "outputs": [],
   "source": []
  }
 ],
 "metadata": {
  "kernelspec": {
   "display_name": "Python 3 (ipykernel)",
   "language": "python",
   "name": "python3"
  },
  "language_info": {
   "codemirror_mode": {
    "name": "ipython",
    "version": 3
   },
   "file_extension": ".py",
   "mimetype": "text/x-python",
   "name": "python",
   "nbconvert_exporter": "python",
   "pygments_lexer": "ipython3",
   "version": "3.11.3"
  }
 },
 "nbformat": 4,
 "nbformat_minor": 4
}
