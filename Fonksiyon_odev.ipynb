{
 "cells": [
  {
   "cell_type": "markdown",
   "metadata": {},
   "source": [
    "#### Ödev 1\n",
    "Kullanıcıdan pi değeri ve yarıçap bilgisi alarak dairenin alanını hesaplayan bir fonksiyon oluşturulur."
   ]
  },
  {
   "cell_type": "code",
   "execution_count": 1,
   "metadata": {},
   "outputs": [
    {
     "name": "stdin",
     "output_type": "stream",
     "text": [
      "pi değerini giriniz:  3.14\n",
      "Yarıçapı giriniz:  12\n"
     ]
    },
    {
     "name": "stdout",
     "output_type": "stream",
     "text": [
      "Dairenin alanı: 452.16\n"
     ]
    }
   ],
   "source": [
    "def daire_alani():\n",
    "    pi = float(input(\"pi değerini giriniz: \"))\n",
    "    yaricap = float(input(\"Yarıçapı giriniz: \"))\n",
    "\n",
    "    if pi <= 0 or yaricap <= 0:\n",
    "        print(\"Lütfen yarıçap ve pi için pozitif bir değer girin\")\n",
    "        return\n",
    "\n",
    "    alan = pi * (yaricap ** 2)\n",
    "    print(f\"Dairenin alanı: {alan}\")\n",
    "\n",
    "daire_alani()"
   ]
  },
  {
   "cell_type": "markdown",
   "metadata": {},
   "source": [
    "#### Ödev 2\n",
    "\n",
    "Faktöriyel adında fonksiyon oluşturulur. Döngü kullanarak parametre olarak girilen sayının faktöriyeli hesaplanır. Format metodunu kullanılarak ekrana yazdırılır."
   ]
  },
  {
   "cell_type": "code",
   "execution_count": 4,
   "metadata": {
    "vscode": {
     "languageId": "plaintext"
    }
   },
   "outputs": [
    {
     "name": "stdin",
     "output_type": "stream",
     "text": [
      "Hesaplamak istediğiniz sayıyı girin:  12\n"
     ]
    },
    {
     "name": "stdout",
     "output_type": "stream",
     "text": [
      "12 sayısının faktöriyeli: 479001600\n"
     ]
    }
   ],
   "source": [
    "def factorial(sayi):\n",
    "    if sayi == 0 or sayi == 1:\n",
    "        return 1\n",
    "    else:\n",
    "        return sayi * factorial(sayi - 1)\n",
    "\n",
    "sayi = int(input(\"Hesaplamak istediğiniz sayıyı girin: \"))\n",
    "sonuc = factorial(sayi)\n",
    "\n",
    "print(\"{} sayısının faktöriyeli: {}\".format(sayi, sonuc))\n"
   ]
  },
  {
   "cell_type": "markdown",
   "metadata": {},
   "source": [
    "#### Ödev 3\n",
    "Kişinin fonksiyona doğum yılını vererek kaç yaşında olduğunu hesaplayan bir fonksiyon oluşturun. "
   ]
  },
  {
   "cell_type": "code",
   "execution_count": 5,
   "metadata": {
    "vscode": {
     "languageId": "plaintext"
    }
   },
   "outputs": [
    {
     "name": "stdin",
     "output_type": "stream",
     "text": [
      "Doğum yılınızı girin:  2000\n"
     ]
    },
    {
     "name": "stdout",
     "output_type": "stream",
     "text": [
      "Kişi 24 yaşında.\n"
     ]
    }
   ],
   "source": [
    "from datetime import datetime\n",
    "\n",
    "def yas_hesaplama(date):\n",
    "    simdi = datetime.now().year\n",
    "    yas = simdi - dogum_yili\n",
    "    return yas\n",
    "\n",
    "dogum_yili = int(input(\"Doğum yılınızı girin: \"))\n",
    "\n",
    "yasi = yas_hesaplama(dogum_yili)\n",
    "\n",
    "# Sonucu ekrana yazdır\n",
    "print(\"Kişi {} yaşında.\".format(yasi))"
   ]
  },
  {
   "cell_type": "markdown",
   "metadata": {},
   "source": [
    "#### Ödev 4\n",
    "\n",
    "Doğum yılı ve isim bilgisi verilen fonksiyon kişinin emekli olup olmadığını söylesin.(Kişi 65 yaşında ise emekli olur.) Burada yaş hesabını yukarıdaki örnekteki fonksiyonu kullanarak yapsın.(Yani fonksiyon içinde fonksiyon kullanmanızı istiyorum :)) Kişi 65 yaşında ya da daha fazlaysa \"Emekli oldunuz\" yanıtını, 65 yaşından küçükse emekliliğine kaç yıl kaldığını da hesaplayarak \"(isim) emekliliğine (yıl) kaldı.\" yanıtını versin."
   ]
  },
  {
   "cell_type": "code",
   "execution_count": 6,
   "metadata": {
    "vscode": {
     "languageId": "plaintext"
    }
   },
   "outputs": [
    {
     "name": "stdin",
     "output_type": "stream",
     "text": [
      "İsminizi girin:  Ali\n",
      "Doğum yılınızı girin:  1986\n"
     ]
    },
    {
     "name": "stdout",
     "output_type": "stream",
     "text": [
      "Ali emekliliğine 27 yıl kaldı.\n"
     ]
    }
   ],
   "source": [
    "from datetime import datetime\n",
    "\n",
    "def yas_hesaplama(date):\n",
    "    simdi = datetime.now().year\n",
    "    yas = simdi - dogum_yili\n",
    "    return yas\n",
    "    \n",
    "def emeklilik_hesabi(isim, date):\n",
    "    kisi_yasi = yas_hesaplama(dogum_yili)\n",
    "    \n",
    "    if kisi_yasi >= 65:\n",
    "        return \"{} emekli oldunuz.\".format(isim)\n",
    "    else:\n",
    "        emeklilik_kalani = 65 - kisi_yasi\n",
    "        return \"{} emekliliğine {} yıl kaldı.\".format(isim, emeklilik_kalani)\n",
    "\n",
    "isim = input(\"İsminizi girin: \")\n",
    "dogum_yili = int(input(\"Doğum yılınızı girin: \"))\n",
    "\n",
    "\n",
    "sonuc = emeklilik_hesabi(isim, dogum_yili)\n",
    "\n",
    "\n",
    "print(sonuc)\n",
    "    \n",
    "    "
   ]
  },
  {
   "cell_type": "code",
   "execution_count": null,
   "metadata": {},
   "outputs": [],
   "source": []
  }
 ],
 "metadata": {
  "kernelspec": {
   "display_name": "Python 3 (ipykernel)",
   "language": "python",
   "name": "python3"
  },
  "language_info": {
   "codemirror_mode": {
    "name": "ipython",
    "version": 3
   },
   "file_extension": ".py",
   "mimetype": "text/x-python",
   "name": "python",
   "nbconvert_exporter": "python",
   "pygments_lexer": "ipython3",
   "version": "3.11.3"
  }
 },
 "nbformat": 4,
 "nbformat_minor": 4
}
