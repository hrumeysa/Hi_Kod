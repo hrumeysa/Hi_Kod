{
 "cells": [
  {
   "cell_type": "code",
   "execution_count": 3,
   "id": "e3632fbc",
   "metadata": {},
   "outputs": [],
   "source": [
    "sozluk = {\"Kategori\": [\"Giyim\",\"Giyim\", \"Ayakkabı\",\"Aksesuar\",\"Ayakkabı\",\"Giyim\",\"Aksesuar\",\"Aksesuar\",\"Ayakkabı\",\"Giyim\"],\n",
    "         \"Ürün\" : [\"Kazak\",\"T-shirt\",\"Sandalet\",\"Küpe\",\"Spor Ayakkabı\",\"Pantolon\",\"Kolye\",\"Yüzük\",\"Çizme\",\"Ceket\"],\n",
    "         \"Fiyat\" : [300,180,450,50,700,400,150,80,850,900]}"
   ]
  },
  {
   "cell_type": "markdown",
   "id": "e380a30f",
   "metadata": {},
   "source": [
    "##### 1. Yukarıdaki sözlüğü bir DataFrame haline getirin."
   ]
  },
  {
   "cell_type": "code",
   "execution_count": 1,
   "id": "fa7a1757",
   "metadata": {},
   "outputs": [
    {
     "name": "stdout",
     "output_type": "stream",
     "text": [
      "   Kategori           Ürün  Fiyat\n",
      "0     Giyim          Kazak    300\n",
      "1     Giyim        T-shirt    180\n",
      "2  Ayakkabı       Sandalet    450\n",
      "3  Aksesuar           Küpe     50\n",
      "4  Ayakkabı  Spor Ayakkabı    700\n",
      "5     Giyim       Pantolon    400\n",
      "6  Aksesuar          Kolye    150\n",
      "7  Aksesuar          Yüzük     80\n",
      "8  Ayakkabı          Çizme    850\n",
      "9     Giyim          Ceket    900\n"
     ]
    }
   ],
   "source": [
    "import pandas as pd\n",
    "\n",
    "df = pd.DataFrame({\"Kategori\": [\"Giyim\",\"Giyim\", \"Ayakkabı\",\"Aksesuar\",\"Ayakkabı\",\"Giyim\",\"Aksesuar\",\"Aksesuar\",\"Ayakkabı\",\"Giyim\"],\n",
    "                   \"Ürün\" : [\"Kazak\",\"T-shirt\",\"Sandalet\",\"Küpe\",\"Spor Ayakkabı\",\"Pantolon\",\"Kolye\",\"Yüzük\",\"Çizme\",\"Ceket\"],\n",
    "                   \"Fiyat\" : [300,180,450,50,700,400,150,80,850,900]})\n",
    "\n",
    "print(df)"
   ]
  },
  {
   "cell_type": "markdown",
   "id": "fe81a0e9",
   "metadata": {},
   "source": [
    "##### 2. Aşağıdaki işlemleri dataframe üzerinde uygulayalım.\n",
    "- 2.indexde bulunan kategoriyi bulalım (Sadece kategori bilgisi) \n",
    "- 2.indexde bulunan ürünü bulalım (Sadece ürün bilgisi)\n",
    "- 4.indexden 9.indexe kadar olan verileri bulalım (Kategori,ürün,fiyat bilgisi beraber)\n",
    "- 1.indexden 6.indexe kadar olan ürünleri bulalım (Sadece ürün bilgisi)\n"
   ]
  },
  {
   "cell_type": "code",
   "execution_count": 2,
   "id": "2baa9073",
   "metadata": {},
   "outputs": [
    {
     "name": "stdout",
     "output_type": "stream",
     "text": [
      "2. indexdeki kategori bilgisi: Ayakkabı\n",
      "2. indexdeki ürün bilgisi: Sandalet\n",
      "4. indexten 9. indexe kadar olan veriler:\n",
      "   Kategori           Ürün  Fiyat\n",
      "4  Ayakkabı  Spor Ayakkabı    700\n",
      "5     Giyim       Pantolon    400\n",
      "6  Aksesuar          Kolye    150\n",
      "7  Aksesuar          Yüzük     80\n",
      "8  Ayakkabı          Çizme    850\n",
      "9     Giyim          Ceket    900\n",
      "\n",
      "1. indexten 6. indexe kadar olan ürün bilgileri:\n",
      "1          T-shirt\n",
      "2         Sandalet\n",
      "3             Küpe\n",
      "4    Spor Ayakkabı\n",
      "5         Pantolon\n",
      "6            Kolye\n",
      "Name: Ürün, dtype: object\n"
     ]
    }
   ],
   "source": [
    "# 2. indexdeki kategori bilgisini bulma\n",
    "kategori_2 = df.loc[2, 'Kategori']\n",
    "print(\"2. indexdeki kategori bilgisi:\", kategori_2)\n",
    "\n",
    "# 2. indexdeki ürün bilgisini bulma\n",
    "ürün_2 = df.loc[2, 'Ürün']\n",
    "print(\"2. indexdeki ürün bilgisi:\", ürün_2)\n",
    "\n",
    "# 4. indexten 9. indexe kadar olan verileri bulma\n",
    "veriler = df.loc[4:9]\n",
    "print(\"4. indexten 9. indexe kadar olan veriler:\")\n",
    "print(veriler)\n",
    "\n",
    "# 1. indexten 6. indexe kadar olan ürünleri bulma\n",
    "ürünler = df.loc[1:6, 'Ürün']\n",
    "print(\"\\n1. indexten 6. indexe kadar olan ürün bilgileri:\")\n",
    "print(ürünler)"
   ]
  },
  {
   "cell_type": "markdown",
   "id": "18d5e3a5",
   "metadata": {},
   "source": [
    "##### 3. Aşağıdaki işlemleri dataframe üzerinde uygulayalım.\n",
    "- Giyim kategorisinde bulunan ürünleri gösterin\n",
    "- Ayakkabı kategorisinde bulunan ürünleri gösterin\n",
    "- Aksesuar kategorisinde bulunan ürünleri gösterin"
   ]
  },
  {
   "cell_type": "code",
   "execution_count": 3,
   "id": "c12f603a",
   "metadata": {},
   "outputs": [
    {
     "name": "stdout",
     "output_type": "stream",
     "text": [
      "Giyim kategorisinde bulunan ürünler:\n",
      "0       Kazak\n",
      "1     T-shirt\n",
      "5    Pantolon\n",
      "9       Ceket\n",
      "Name: Ürün, dtype: object\n",
      "\n",
      "Ayakkabı kategorisinde bulunan ürünler:\n",
      "2         Sandalet\n",
      "4    Spor Ayakkabı\n",
      "8            Çizme\n",
      "Name: Ürün, dtype: object\n",
      "\n",
      "Aksesuar kategorisinde bulunan ürünler:\n",
      "3     Küpe\n",
      "6    Kolye\n",
      "7    Yüzük\n",
      "Name: Ürün, dtype: object\n"
     ]
    }
   ],
   "source": [
    "# Giyim kategorisinde bulunan ürünleri gösterme\n",
    "giyim_urunleri = df[df['Kategori'] == 'Giyim']['Ürün']\n",
    "print(\"Giyim kategorisinde bulunan ürünler:\")\n",
    "print(giyim_urunleri)\n",
    "\n",
    "# Ayakkabı kategorisinde bulunan ürünleri gösterme\n",
    "ayakkabi_urunleri = df[df['Kategori'] == 'Ayakkabı']['Ürün']\n",
    "print(\"\\nAyakkabı kategorisinde bulunan ürünler:\")\n",
    "print(ayakkabi_urunleri)\n",
    "\n",
    "# Aksesuar kategorisinde bulunan ürünleri gösterme\n",
    "aksesuar_urunleri = df[df['Kategori'] == 'Aksesuar']['Ürün']\n",
    "print(\"\\nAksesuar kategorisinde bulunan ürünler:\")\n",
    "print(aksesuar_urunleri)"
   ]
  },
  {
   "cell_type": "markdown",
   "id": "5c31302a",
   "metadata": {},
   "source": [
    "##### 4 Aşağıdaki işlemleri dataframe üzerinde uygulayalım.\n",
    "- Giyim kategorisinde fiyatı 300'den fazla olan ürünleri gösterin\n",
    "- Ayakkabı kategorisinde fiyatı 600'den az olan ürünleri gösterin\n",
    "- Aksesuar kategorisinde fiyatı 100'den fazla olan aksesuarı gösterin"
   ]
  },
  {
   "cell_type": "code",
   "execution_count": 4,
   "id": "cc96c65b",
   "metadata": {},
   "outputs": [
    {
     "name": "stdout",
     "output_type": "stream",
     "text": [
      "Giyim kategorisinde fiyatı 300'den fazla olan ürünler:\n",
      "  Kategori      Ürün  Fiyat\n",
      "5    Giyim  Pantolon    400\n",
      "9    Giyim     Ceket    900\n",
      "\n",
      "Ayakkabı kategorisinde fiyatı 600'den az olan ürünler:\n",
      "   Kategori      Ürün  Fiyat\n",
      "2  Ayakkabı  Sandalet    450\n",
      "\n",
      "Aksesuar kategorisinde fiyatı 100'den fazla olan ürünler:\n",
      "   Kategori   Ürün  Fiyat\n",
      "6  Aksesuar  Kolye    150\n"
     ]
    }
   ],
   "source": [
    "# Giyim kategorisinde fiyatı 300'den fazla olan ürünleri gösterme\n",
    "giyim_fiyat_üst_limit = 300\n",
    "giyim_fiyat_filtre = (df['Kategori'] == 'Giyim') & (df['Fiyat'] > giyim_fiyat_üst_limit)\n",
    "giyim_yüksek_fiyatli_urunler = df[giyim_fiyat_filtre]\n",
    "print(\"Giyim kategorisinde fiyatı 300'den fazla olan ürünler:\")\n",
    "print(giyim_yüksek_fiyatli_urunler)\n",
    "\n",
    "# Ayakkabı kategorisinde fiyatı 600'den az olan ürünleri gösterme\n",
    "ayakkabi_fiyat_alt_limit = 600\n",
    "ayakkabi_fiyat_filtre = (df['Kategori'] == 'Ayakkabı') & (df['Fiyat'] < ayakkabi_fiyat_alt_limit)\n",
    "ayakkabi_dusuk_fiyatli_urunler = df[ayakkabi_fiyat_filtre]\n",
    "print(\"\\nAyakkabı kategorisinde fiyatı 600'den az olan ürünler:\")\n",
    "print(ayakkabi_dusuk_fiyatli_urunler)\n",
    "\n",
    "# Aksesuar kategorisinde fiyatı 100'den fazla olan aksesuarları gösterme\n",
    "aksesuar_fiyat_üst_limit = 100\n",
    "aksesuar_fiyat_filtre = (df['Kategori'] == 'Aksesuar') & (df['Fiyat'] > aksesuar_fiyat_üst_limit)\n",
    "aksesuar_yüksek_fiyatli_urunler = df[aksesuar_fiyat_filtre]\n",
    "print(\"\\nAksesuar kategorisinde fiyatı 100'den fazla olan ürünler:\")\n",
    "print(aksesuar_yüksek_fiyatli_urunler)"
   ]
  },
  {
   "cell_type": "code",
   "execution_count": null,
   "id": "6bda3144-0221-4e19-8916-a1f87054f3e2",
   "metadata": {},
   "outputs": [],
   "source": []
  }
 ],
 "metadata": {
  "kernelspec": {
   "display_name": "Python 3 (ipykernel)",
   "language": "python",
   "name": "python3"
  },
  "language_info": {
   "codemirror_mode": {
    "name": "ipython",
    "version": 3
   },
   "file_extension": ".py",
   "mimetype": "text/x-python",
   "name": "python",
   "nbconvert_exporter": "python",
   "pygments_lexer": "ipython3",
   "version": "3.11.3"
  }
 },
 "nbformat": 4,
 "nbformat_minor": 5
}
